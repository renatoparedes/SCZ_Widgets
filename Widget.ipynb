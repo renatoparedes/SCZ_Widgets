{
 "cells": [
  {
   "cell_type": "code",
   "execution_count": 37,
   "metadata": {},
   "outputs": [],
   "source": [
    "### Load PPS model\n",
    "%run ./HC_model_new.ipynb"
   ]
  },
  {
   "cell_type": "code",
   "execution_count": 61,
   "metadata": {},
   "outputs": [],
   "source": [
    "from __future__ import print_function\n",
    "from ipywidgets import interact, interactive, fixed, interact_manual\n",
    "import ipywidgets as widgets\n",
    "from IPython.display import display\n",
    "from sklearn import preprocessing  "
   ]
  },
  {
   "cell_type": "code",
   "execution_count": 107,
   "metadata": {},
   "outputs": [],
   "source": [
    "### Visuotactile experiment simulation setup \n",
    "\n",
    "# Distance points in cm (network coordinates) \n",
    "s_distances = np.asarray([2700,2200,1500,800,300])/1000\n",
    "ts = np.linspace(s_distances[0],s_distances[-1],5)\n",
    "v = 30 #cm/s \n",
    "mydistances = (120 - ts*v) # distance points in cm (network coordinates)\n",
    "\n",
    "## Simulation setup\n",
    "simtime = 100 #ms \n",
    "\n",
    "## Synapses setup\n",
    "L_ex,L_in,S_ex,S_in = 0.15,0.05,1,4\n",
    "b = 2.5\n",
    "pr = 0"
   ]
  },
  {
   "cell_type": "code",
   "execution_count": 48,
   "metadata": {},
   "outputs": [],
   "source": [
    "RTs,ZMs,ZTs,ZAs = experimentrun(mydistances,simtime,b,pr,L_ex,L_in,S_ex,S_in)"
   ]
  },
  {
   "cell_type": "code",
   "execution_count": 49,
   "metadata": {},
   "outputs": [
    {
     "data": {
      "text/plain": [
       "<matplotlib.collections.PathCollection at 0x2b04373dfc8>"
      ]
     },
     "execution_count": 49,
     "metadata": {},
     "output_type": "execute_result"
    },
    {
     "data": {
      "image/png": "[encoded data removed]",
      "text/plain": [
       "<Figure size 432x288 with 1 Axes>"
      ]
     },
     "metadata": {
      "needs_background": "light"
     },
     "output_type": "display_data"
    }
   ],
   "source": [
    "plt.figure(1)\n",
    "plt.scatter(mydistances,RTs)\n",
    "#plt.imshow(ZTs[:,:,4])"
   ]
  },
  {
   "cell_type": "code",
   "execution_count": 57,
   "metadata": {},
   "outputs": [],
   "source": [
    "# save np.load\n",
    "np_load_old = np.load\n",
    "\n",
    "# modify the default parameters of np.load\n",
    "#np.load = lambda *a,**k: np_load_old(*a, allow_pickle=True, **k)\n",
    "np.load = lambda *a,**k: np_load_old(*a,allow_pickle=True)"
   ]
  },
  {
   "cell_type": "code",
   "execution_count": 99,
   "metadata": {},
   "outputs": [],
   "source": [
    "def RTsig(data,cp,h,ymin,ymax):\n",
    "    return (ymin+ymax*np.exp((data-cp)/h)) / (1+np.exp((data-cp)/h))\n",
    "\n",
    "## Sigmoid function fitting\n",
    "def sigfit(x,y):\n",
    "    ymin = np.min(y)\n",
    "    ymax = np.max(y)\n",
    "    \n",
    "    k_0 = (ymax - ymin)/(x[-1]-x[0])\n",
    "    initial_slope = (ymax - ymin)/(4*k_0)\n",
    "    middle_x = np.max(x)/2\n",
    "    init_guess = [middle_x, initial_slope]\n",
    "    boundaries = ([0,float('-inf')],[float('inf'),float('inf')])\n",
    "    \n",
    "    popt, pcov = curve_fit(lambda data,cp,h:RTsig(data,cp,h,ymin,ymax),x,y,p0=init_guess,method='trf',ftol=1e-8,xtol=1e-8,maxfev=10000,bounds=boundaries)\n",
    "    sigpar = np.asarray(popt)\n",
    "    dc = sigpar[0]\n",
    "    h = sigpar[1]\n",
    "    \n",
    "    return dc,h"
   ]
  },
  {
   "cell_type": "code",
   "execution_count": 109,
   "metadata": {},
   "outputs": [],
   "source": [
    "# Experimental Data - SCZ\n",
    "ymin = 345.10584283635757\n",
    "ymax = 449.60233625307154\n",
    "cp = 120-1.654*v\n",
    "slope = 1/0.23\n",
    "SCZ_RTs = RTsig(mydistances,cp,slope,ymin,ymax)"
   ]
  },
  {
   "cell_type": "code",
   "execution_count": 116,
   "metadata": {},
   "outputs": [
    {
     "data": {
      "application/vnd.jupyter.widget-view+json": {
       "model_id": "b08b8eacc2cd48728b39bb736e03e8fe",
       "version_major": 2,
       "version_minor": 0
      },
      "text/plain": [
       "interactive(children=(FloatSlider(value=0.15, description='L_ex', max=2.5), FloatSlider(value=0.0, description…"
      ]
     },
     "metadata": {},
     "output_type": "display_data"
    }
   ],
   "source": [
    "def f(L_ex=0.15, rho=0,B=2.5):\n",
    "    plt.figure(2)\n",
    "    RTs,ZMs,ZTs,ZAs = experimentrun(mydistances,simtime,B,rho,L_ex,L_in,S_ex,S_in)\n",
    "    dc,h = sigfit(mydistances,RTs)\n",
    "    a_distances_exp = np.linspace(mydistances[0],mydistances[-1],30)\n",
    "    scaledRTs = preprocessing.normalize(RTs.reshape(1,-1))[0]\n",
    "    yf_exp = RTsig(a_distances_exp,dc,h,np.min(scaledRTs),np.max(scaledRTs))\n",
    "    \n",
    "    plt.plot(a_distances_exp,yf_exp,label='Model')\n",
    "    plt.scatter(mydistances,preprocessing.normalize(SCZ_RTs.reshape(1,-1))[0],label='SCZ')\n",
    "    plt.ylabel('Scaled RT',size=14)\n",
    "    plt.xlabel('Distance (cm)',size=14)\n",
    "    plt.legend()\n",
    "    plt.show()\n",
    "\n",
    "interactive_plot = interactive(f, L_ex=(0, 2.5), rho=(0, 6.5), B=(0.5,6))\n",
    "output = interactive_plot.children[-1]\n",
    "output.layout.height = '350px'\n",
    "interactive_plot\n",
    "\n",
    "# Export to html and try in website."
   ]
  },
  {
   "cell_type": "code",
   "execution_count": 117,
   "metadata": {},
   "outputs": [],
   "source": []
  },
  {
   "cell_type": "code",
   "execution_count": null,
   "metadata": {},
   "outputs": [],
   "source": [
    "# Do widget for two-point discrimination with mexican hat parameters to show the requirement of an E/I balance."
   ]
  },
  {
   "cell_type": "code",
   "execution_count": null,
   "metadata": {},
   "outputs": [],
   "source": [
    "# Explore two hand discrimination"
   ]
  }
 ],
 "metadata": {
  "kernelspec": {
   "display_name": "Python 3",
   "language": "python",
   "name": "python3"
  },
  "language_info": {
   "codemirror_mode": {
    "name": "ipython",
    "version": 3
   },
   "file_extension": ".py",
   "mimetype": "text/x-python",
   "name": "python",
   "nbconvert_exporter": "python",
   "pygments_lexer": "ipython3",
   "version": "3.7.4"
  },
  "widgets": {
   "application/vnd.jupyter.widget-state+json": {
    "state": {},
    "version_major": 2,
    "version_minor": 0
   }
  }
 },
 "nbformat": 4,
 "nbformat_minor": 4
}
