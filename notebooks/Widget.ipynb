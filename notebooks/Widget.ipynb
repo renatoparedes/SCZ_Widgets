{
 "cells": [
  {
   "cell_type": "code",
   "execution_count": 1,
   "metadata": {},
   "outputs": [],
   "source": [
    "### Load PPS model\n",
    "%run ./HC_model_new.ipynb"
   ]
  },
  {
   "cell_type": "code",
   "execution_count": 2,
   "metadata": {},
   "outputs": [],
   "source": [
    "from __future__ import print_function\n",
    "from ipywidgets import interact, interactive, fixed, interact_manual\n",
    "import ipywidgets as widgets\n",
    "from IPython.display import display\n",
    "from sklearn import preprocessing  "
   ]
  },
  {
   "cell_type": "code",
   "execution_count": 3,
   "metadata": {},
   "outputs": [],
   "source": [
    "### Visuotactile experiment simulation setup \n",
    "\n",
    "# Distance points in cm (network coordinates) \n",
    "s_distances = np.asarray([2700,2200,1500,800,300])/1000\n",
    "ts = np.linspace(s_distances[0],s_distances[-1],5)\n",
    "v = 30 #cm/s \n",
    "mydistances = (120 - ts*v) # distance points in cm (network coordinates)\n",
    "\n",
    "## Simulation setup\n",
    "simtime = 100 #ms \n",
    "\n",
    "## Synapses setup\n",
    "L_ex,L_in,S_ex,S_in = 0.15,0.05,1,4\n",
    "b = 2.5\n",
    "pr = 0"
   ]
  },
  {
   "cell_type": "code",
   "execution_count": 4,
   "metadata": {},
   "outputs": [],
   "source": [
    "def RTsig(data,cp,h,ymin,ymax):\n",
    "    return (ymin+ymax*np.exp((data-cp)/h)) / (1+np.exp((data-cp)/h))\n",
    "\n",
    "## Sigmoid function fitting\n",
    "def sigfit(x,y):\n",
    "    ymin = np.min(y)\n",
    "    ymax = np.max(y)\n",
    "    \n",
    "    k_0 = (ymax - ymin)/(x[-1]-x[0])\n",
    "    initial_slope = (ymax - ymin)/(4*k_0)\n",
    "    middle_x = np.max(x)/2\n",
    "    init_guess = [middle_x, initial_slope]\n",
    "    boundaries = ([0,float('-inf')],[float('inf'),float('inf')])\n",
    "    \n",
    "    popt, pcov = curve_fit(lambda data,cp,h:RTsig(data,cp,h,ymin,ymax),x,y,p0=init_guess,method='trf',ftol=1e-8,xtol=1e-8,maxfev=10000,bounds=boundaries)\n",
    "    sigpar = np.asarray(popt)\n",
    "    dc = sigpar[0]\n",
    "    h = sigpar[1]\n",
    "    \n",
    "    return dc,h"
   ]
  },
  {
   "cell_type": "code",
   "execution_count": 5,
   "metadata": {},
   "outputs": [],
   "source": [
    "# Experimental Data - SCZ\n",
    "ymin = 345.10584283635757\n",
    "ymax = 449.60233625307154\n",
    "cp = 120-1.654*v\n",
    "slope = 1/0.23\n",
    "SCZ_RTs = RTsig(mydistances,cp,slope,ymin,ymax)"
   ]
  },
  {
   "cell_type": "code",
   "execution_count": 6,
   "metadata": {},
   "outputs": [
    {
     "data": {
      "application/vnd.jupyter.widget-view+json": {
       "model_id": "e9b9d4930fe14e91baf80f9f32252d2c",
       "version_major": 2,
       "version_minor": 0
      },
      "text/plain": [
       "interactive(children=(FloatSlider(value=0.15, description='L_ex', max=2.5), FloatSlider(value=0.0, description…"
      ]
     },
     "metadata": {},
     "output_type": "display_data"
    }
   ],
   "source": [
    "def f(L_ex=0.15, rho=0,B=2.5):\n",
    "    plt.figure(2)\n",
    "    RTs,ZMs,ZTs,ZAs = experimentrun(mydistances,simtime,B,rho,L_ex,L_in,S_ex,S_in)\n",
    "    dc,h = sigfit(mydistances,RTs)\n",
    "    a_distances_exp = np.linspace(mydistances[0],mydistances[-1],30)\n",
    "    scaledRTs = preprocessing.normalize(RTs.reshape(1,-1))[0]\n",
    "    yf_exp = RTsig(a_distances_exp,dc,h,np.min(scaledRTs),np.max(scaledRTs))\n",
    "    \n",
    "    plt.plot(a_distances_exp,yf_exp,label='Model')\n",
    "    plt.scatter(mydistances,preprocessing.normalize(SCZ_RTs.reshape(1,-1))[0],label='SCZ')\n",
    "    plt.ylabel('Scaled RT',size=14)\n",
    "    plt.xlabel('Distance (cm)',size=14)\n",
    "    plt.legend()\n",
    "    plt.show()\n",
    "\n",
    "interactive_plot = interactive(f, L_ex=(0, 2.5), rho=(0, 6.5), B=(0.5,6))\n",
    "output = interactive_plot.children[-1]\n",
    "output.layout.height = '350px'\n",
    "interactive_plot\n",
    "\n",
    "# Export to html and try in website."
   ]
  }
 ],
 "metadata": {
  "kernelspec": {
   "display_name": "Python 3",
   "language": "python",
   "name": "python3"
  },
  "language_info": {
   "codemirror_mode": {
    "name": "ipython",
    "version": 3
   },
   "file_extension": ".py",
   "mimetype": "text/x-python",
   "name": "python",
   "nbconvert_exporter": "python",
   "pygments_lexer": "ipython3",
   "version": "3.7.4"
  },
  "widgets": {
   "application/vnd.jupyter.widget-state+json": {
    "state": {
     "0a650f503e364a6d828b2ace98a767bc": {
      "model_module": "@jupyter-widgets/controls",
      "model_module_version": "1.5.0",
      "model_name": "FloatSliderModel",
      "state": {
       "description": "B",
       "layout": "IPY_MODEL_87ab5c3a19954d3fa8fa64a68b7e5c14",
       "max": 6,
       "min": 0.5,
       "step": 0.1,
       "style": "IPY_MODEL_f2f6800066dd48e3aa29a521c621cfb9",
       "value": 2.5
      }
     },
     "5e6a5c82a3974e08bdccc89ff085975f": {
      "model_module": "@jupyter-widgets/controls",
      "model_module_version": "1.5.0",
      "model_name": "SliderStyleModel",
      "state": {
       "description_width": ""
      }
     },
     "61b11248b01c4cf0b8146ee75fa40cad": {
      "model_module": "@jupyter-widgets/controls",
      "model_module_version": "1.5.0",
      "model_name": "FloatSliderModel",
      "state": {
       "description": "L_ex",
       "layout": "IPY_MODEL_99db94e601ac429c84392ae1c8c85ba5",
       "max": 2.5,
       "step": 0.1,
       "style": "IPY_MODEL_e5de6f162b514f31aaa3f4e56b889c61",
       "value": 0.15
      }
     },
     "74e040dc68a7490c9e1db64ce009d02b": {
      "model_module": "@jupyter-widgets/controls",
      "model_module_version": "1.5.0",
      "model_name": "FloatSliderModel",
      "state": {
       "description": "rho",
       "layout": "IPY_MODEL_91b2a4aa80984517acf82ffeee10248b",
       "max": 6.5,
       "step": 0.1,
       "style": "IPY_MODEL_5e6a5c82a3974e08bdccc89ff085975f"
      }
     },
     "87ab5c3a19954d3fa8fa64a68b7e5c14": {
      "model_module": "@jupyter-widgets/base",
      "model_module_version": "1.2.0",
      "model_name": "LayoutModel",
      "state": {}
     },
     "9041c29de9ee4c9d959faec07a54c0ce": {
      "model_module": "@jupyter-widgets/base",
      "model_module_version": "1.2.0",
      "model_name": "LayoutModel",
      "state": {
       "height": "350px"
      }
     },
     "91b2a4aa80984517acf82ffeee10248b": {
      "model_module": "@jupyter-widgets/base",
      "model_module_version": "1.2.0",
      "model_name": "LayoutModel",
      "state": {}
     },
     "99db94e601ac429c84392ae1c8c85ba5": {
      "model_module": "@jupyter-widgets/base",
      "model_module_version": "1.2.0",
      "model_name": "LayoutModel",
      "state": {}
     },
     "9ab6efbf8b174c858f8ffdd42d51330a": {
      "model_module": "@jupyter-widgets/base",
      "model_module_version": "1.2.0",
      "model_name": "LayoutModel",
      "state": {}
     },
     "e5de6f162b514f31aaa3f4e56b889c61": {
      "model_module": "@jupyter-widgets/controls",
      "model_module_version": "1.5.0",
      "model_name": "SliderStyleModel",
      "state": {
       "description_width": ""
      }
     },
     "e8b9a56ec6194e299aebd0fd51faf5cc": {
      "model_module": "@jupyter-widgets/output",
      "model_module_version": "1.0.0",
      "model_name": "OutputModel",
      "state": {
       "layout": "IPY_MODEL_9041c29de9ee4c9d959faec07a54c0ce",
       "outputs": [
        {
         "data": {
          "image/png": "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\n",
          "text/plain": "<Figure size 432x288 with 1 Axes>"
         },
         "metadata": {
          "needs_background": "light"
         },
         "output_type": "display_data"
        }
       ]
      }
     },
     "e9b9d4930fe14e91baf80f9f32252d2c": {
      "model_module": "@jupyter-widgets/controls",
      "model_module_version": "1.5.0",
      "model_name": "VBoxModel",
      "state": {
       "_dom_classes": [
        "widget-interact"
       ],
       "children": [
        "IPY_MODEL_61b11248b01c4cf0b8146ee75fa40cad",
        "IPY_MODEL_74e040dc68a7490c9e1db64ce009d02b",
        "IPY_MODEL_0a650f503e364a6d828b2ace98a767bc",
        "IPY_MODEL_e8b9a56ec6194e299aebd0fd51faf5cc"
       ],
       "layout": "IPY_MODEL_9ab6efbf8b174c858f8ffdd42d51330a"
      }
     },
     "f2f6800066dd48e3aa29a521c621cfb9": {
      "model_module": "@jupyter-widgets/controls",
      "model_module_version": "1.5.0",
      "model_name": "SliderStyleModel",
      "state": {
       "description_width": ""
      }
     }
    },
    "version_major": 2,
    "version_minor": 0
   }
  }
 },
 "nbformat": 4,
 "nbformat_minor": 4
}
